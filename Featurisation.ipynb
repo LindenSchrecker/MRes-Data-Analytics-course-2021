{
 "cells": [
  {
   "cell_type": "code",
   "execution_count": null,
   "metadata": {},
   "outputs": [],
   "source": [
    "from matplotlib import pyplot as plt\n",
    "import numpy as np\n",
    "import pandas as pd\n",
    "from rdkit.Chem import AllChem, Descriptors, MolFromSmiles\n",
    "from sklearn.model_selection import train_test_split\n",
    "from sklearn.metrics import r2_score, mean_squared_error, mean_absolute_error\n",
    "from sklearn.preprocessing import StandardScaler\n",
    "import tensorflow as tf"
   ]
  },
  {
   "cell_type": "code",
   "execution_count": null,
   "metadata": {},
   "outputs": [],
   "source": [
    "# Import main data and get list of SMILES\n",
    "data = pd.read_csv(\"https://deepchemdata.s3-us-west-1.amazonaws.com/datasets/qm8.csv\")  # Load the photoswitch dataset using pandas\n",
    "smiles_list = data['smiles'].to_list()"
   ]
  },
  {
   "cell_type": "code",
   "execution_count": null,
   "metadata": {},
   "outputs": [],
   "source": [
    "len(smiles_list)"
   ]
  },
  {
   "cell_type": "code",
   "execution_count": null,
   "metadata": {},
   "outputs": [],
   "source": [
    "# Initiate list of rdkit molecules\n",
    "rdkit_mols = [MolFromSmiles(smiles) for smiles in smiles_list]"
   ]
  },
  {
   "cell_type": "code",
   "execution_count": null,
   "metadata": {},
   "outputs": [],
   "source": [
    "# Get Morgan fingerprints, note the parameters!\n",
    "morgan_fingerprints = [AllChem.GetMorganFingerprintAsBitVect(mol, radius=3, nBits=2048) for mol in rdkit_mols]\n",
    "morgan_fingerprints = np.asarray(morgan_fingerprints)"
   ]
  },
  {
   "cell_type": "code",
   "execution_count": null,
   "metadata": {},
   "outputs": [],
   "source": [
    "# Turn into pandas dataframe and add smiles as a first column\n",
    "morgan_fingerprints = pd.DataFrame(data = morgan_fingerprints)\n",
    "morgan_fingerprints.insert(0, \"smiles\", smiles_list)"
   ]
  },
  {
   "cell_type": "code",
   "execution_count": null,
   "metadata": {},
   "outputs": [],
   "source": [
    "morgan_fingerprints"
   ]
  },
  {
   "cell_type": "code",
   "execution_count": null,
   "metadata": {},
   "outputs": [],
   "source": [
    "morgan_fingerprints.to_csv(\"morgan_fingerprints.csv\")"
   ]
  },
  {
   "cell_type": "code",
   "execution_count": null,
   "metadata": {},
   "outputs": [],
   "source": [
    "# Next, rdkit's own descriptors\n",
    "from rdkit.Chem import Descriptors"
   ]
  },
  {
   "cell_type": "code",
   "execution_count": null,
   "metadata": {},
   "outputs": [],
   "source": [
    "# A list of desriptors\n",
    "Descriptors.descList"
   ]
  },
  {
   "cell_type": "code",
   "execution_count": null,
   "metadata": {},
   "outputs": [],
   "source": [
    "# Write a dictionary of name:function pairs for all descriptors\n",
    "all_descriptors = {d[0]: d[1] for d in Descriptors.descList}"
   ]
  },
  {
   "cell_type": "code",
   "execution_count": null,
   "metadata": {},
   "outputs": [],
   "source": [
    "# Initialise a new pandas df\n",
    "rdkit_descriptors = pd.DataFrame(data = {\"smiles\": np.array((smiles_list)) })\n",
    "rdkit_descriptors"
   ]
  },
  {
   "cell_type": "code",
   "execution_count": null,
   "metadata": {},
   "outputs": [],
   "source": [
    "# Compute each descriptor (outer loop) for each molecule(inside)\n",
    "for feature in all_descriptors:\n",
    "    values = []\n",
    "    for mol in rdkit_mols:\n",
    "        values += [all_descriptors[feature](mol)]\n",
    "    rdkit_descriptors[feature] = values\n",
    "\n",
    "rdkit_descriptors"
   ]
  },
  {
   "cell_type": "code",
   "execution_count": null,
   "metadata": {},
   "outputs": [],
   "source": [
    "rdkit_descriptors.to_csv(\"rdkit_descriptors.csv\")"
   ]
  },
  {
   "cell_type": "code",
   "execution_count": null,
   "metadata": {},
   "outputs": [],
   "source": [
    "!pip install mordred"
   ]
  },
  {
   "cell_type": "code",
   "execution_count": null,
   "metadata": {},
   "outputs": [],
   "source": [
    "# Finally, mordred descriptors\n",
    "from mordred import Calculator, descriptors, error"
   ]
  },
  {
   "cell_type": "code",
   "execution_count": null,
   "metadata": {},
   "outputs": [],
   "source": [
    "# Initialise a calculator -- mordred works weirdly this way...\n",
    "calc = Calculator(descriptors)"
   ]
  },
  {
   "cell_type": "code",
   "execution_count": null,
   "metadata": {},
   "outputs": [],
   "source": [
    "# Wow, many descriptors, much wow\n",
    "len(calc.descriptors)"
   ]
  },
  {
   "cell_type": "code",
   "execution_count": null,
   "metadata": {},
   "outputs": [],
   "source": [
    "mordred_descriptors = calc.pandas(rdkit_mols)"
   ]
  },
  {
   "cell_type": "code",
   "execution_count": null,
   "metadata": {},
   "outputs": [],
   "source": [
    "# It seems that unfortunately some descriptors cannot be computed. To filter this, \n",
    "# we find all columns that are of data type \"object\", since those contain non-numerical values usually.\n",
    "\n",
    "#CAUTION this takes a long time to run and generates a very large file!\n",
    "error_columns = []\n",
    "for i, e in enumerate(mordred_descriptors.dtypes):\n",
    "    if e==\"object\":\n",
    "        error_columns += [i]\n",
    "error_columns"
   ]
  },
  {
   "cell_type": "code",
   "execution_count": null,
   "metadata": {},
   "outputs": [],
   "source": [
    "# use .drop to remove the affected columns \n",
    "mordred_descriptors = mordred_descriptors.drop(mordred_descriptors.columns[error_columns], axis=1)"
   ]
  },
  {
   "cell_type": "code",
   "execution_count": null,
   "metadata": {},
   "outputs": [],
   "source": [
    "# and remove columns containing NA data, but I don't think this actually does anything...\n",
    "mordred_descriptors = mordred_descriptors.dropna(axis=1)"
   ]
  },
  {
   "cell_type": "code",
   "execution_count": null,
   "metadata": {},
   "outputs": [],
   "source": [
    "# again, insert first SMILES column\n",
    "mordred_descriptors.insert(0, \"smiles\", smiles_list)\n",
    "mordred_descriptors"
   ]
  },
  {
   "cell_type": "code",
   "execution_count": null,
   "metadata": {},
   "outputs": [],
   "source": [
    "mordred_descriptors.to_csv(\"mordred_descriptors.csv\")"
   ]
  },
  {
   "cell_type": "code",
   "execution_count": null,
   "metadata": {},
   "outputs": [],
   "source": []
  },
  {
   "cell_type": "code",
   "execution_count": null,
   "metadata": {},
   "outputs": [],
   "source": [
    "# finally, generate images of molecules\n",
    "#CAREFUL this will generate a very very large file!!\n",
    "from rdkit.Chem import Draw\n",
    "for i,mol in enumerate(rdkit_mols):\n",
    "    Draw.MolToFile(mol, filename = \"molecule_images/\"+ str(i) + \".png\")"
   ]
  },
  {
   "cell_type": "code",
   "execution_count": null,
   "metadata": {},
   "outputs": [],
   "source": []
  }
 ],
 "metadata": {
  "kernelspec": {
   "display_name": "Python 3",
   "language": "python",
   "name": "python3"
  },
  "language_info": {
   "codemirror_mode": {
    "name": "ipython",
    "version": 3
   },
   "file_extension": ".py",
   "mimetype": "text/x-python",
   "name": "python",
   "nbconvert_exporter": "python",
   "pygments_lexer": "ipython3",
   "version": "3.7.4"
  }
 },
 "nbformat": 4,
 "nbformat_minor": 4
}
